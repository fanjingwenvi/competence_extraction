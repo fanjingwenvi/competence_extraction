{
 "cells": [
  {
   "cell_type": "code",
   "execution_count": 1,
   "id": "d48dd98e",
   "metadata": {},
   "outputs": [],
   "source": [
    "# !pip3 install neo4j==4.4.5"
   ]
  },
  {
   "cell_type": "code",
   "execution_count": 2,
   "id": "7df21b46",
   "metadata": {},
   "outputs": [],
   "source": [
    "import time\n",
    "from neo4j import GraphDatabase\n",
    "import csv"
   ]
  },
  {
   "cell_type": "markdown",
   "id": "1afb5d00",
   "metadata": {},
   "source": [
    "### create nodes\n",
    "\n"
   ]
  },
  {
   "cell_type": "code",
   "execution_count": 3,
   "id": "acb603ea",
   "metadata": {},
   "outputs": [
    {
     "name": "stdout",
     "output_type": "stream",
     "text": [
      "CPU times: user 13.9 ms, sys: 9.73 ms, total: 23.7 ms\n",
      "Wall time: 1min 44s\n"
     ]
    },
    {
     "data": {
      "text/plain": [
       "<neo4j.work.result.Result at 0x1093643d0>"
      ]
     },
     "execution_count": 3,
     "metadata": {},
     "output_type": "execute_result"
    }
   ],
   "source": [
    "%%time\n",
    "with open(\"data/connector.txt\") as con:\n",
    "    data = csv.reader(con, delimiter = \",\")\n",
    "    for i in data:\n",
    "        user = i[0]\n",
    "        pwd = i[1]\n",
    "        uri = i[2]\n",
    "\n",
    "\n",
    "driver = GraphDatabase.driver(uri=uri, auth=(user,pwd))\n",
    "\n",
    "\n",
    "session = driver.session()\n",
    "\n",
    "\n",
    "\n",
    "clear_all_nodes = \"\"\"\n",
    "MATCH (n) DELETE n;\n",
    "\"\"\"\n",
    "\n",
    "clear_all = \"\"\"\n",
    "MATCH (n) DETACH DELETE n;\n",
    "\"\"\"\n",
    "\n",
    "# WITH cs LIMIT 10\n",
    "import_descriptions = \"\"\"\n",
    "CALL apoc.load.xml(\"course_description_FOKUS.xml\",\"/DEFTISCAT/COURSETRANSACTIONS/INSERTCOURSES/*\") YIELD value AS cs\n",
    "WITH cs,\n",
    "[x IN cs._children WHERE x._type=\"CS_NAME\" | x._text] as name,\n",
    "[x IN cs._children WHERE x._type=\"CS_DESC_LONG\" | x._text] as desc,\n",
    "[x IN cs._children WHERE x._type=\"CS_ID\" | x._text] as cid\n",
    "MERGE (c:Course{cid:cid[0]})\n",
    "SET c.name=name[0],\n",
    "c.description = desc[0];\n",
    "\"\"\"\n",
    "\n",
    "\n",
    "import_competency = \"\"\"\n",
    "USING PERIODIC COMMIT 500\n",
    "LOAD CSV WITH HEADERS from \"file:/skills_de.csv\" AS row \n",
    "MERGE (c:Competency {uri:row.conceptUri})\n",
    "SET c.name = row.preferredLabel;\n",
    "\"\"\"\n",
    "\n",
    "\n",
    "session.run(clear_all)\n",
    "session.run(import_competency)\n",
    "session.run(import_descriptions)\n"
   ]
  },
  {
   "cell_type": "markdown",
   "id": "df2dfb54",
   "metadata": {},
   "source": [
    "### create relationships"
   ]
  },
  {
   "cell_type": "code",
   "execution_count": 13,
   "id": "e81d7813",
   "metadata": {},
   "outputs": [
    {
     "name": "stdout",
     "output_type": "stream",
     "text": [
      "CPU times: user 37.1 ms, sys: 15.4 ms, total: 52.5 ms\n",
      "Wall time: 12min 59s\n"
     ]
    }
   ],
   "source": [
    "%%time\n",
    "with open(\"data/connector.txt\") as con:\n",
    "    data = csv.reader(con, delimiter = \",\")\n",
    "    for i in data:\n",
    "        user = i[0]\n",
    "        pwd = i[1]\n",
    "        uri = i[2]\n",
    "\n",
    "driver = GraphDatabase.driver(uri=uri, auth=(user, pwd))\n",
    "session = driver.session()\n",
    "\n",
    "clear_all_relations = \"\"\"\n",
    "MATCH ()-[r]-() DELETE r;\n",
    "\"\"\"\n",
    "\n",
    "session.run(clear_all_relations)\n",
    "\n",
    "for i in range(1,29): # with all relation-data in 28 csv-files\n",
    "    import_relation = \"\"\"\n",
    "    USING PERIODIC COMMIT 500\n",
    "    LOAD CSV WITH HEADERS from \"file:/relations/relations_part_\"\"\" + str(i) + \"\"\".csv\" AS row\n",
    "    MATCH (course:Course {cid:row.course_id})\n",
    "    MERGE (competency:Competency {uri: row.conceptUri})\n",
    "    MERGE (course)-[r:RELATED_TO]-(competency);\n",
    "    \"\"\"\n",
    "    session.run(import_relation)\n"
   ]
  },
  {
   "cell_type": "code",
   "execution_count": null,
   "id": "fd5d411e",
   "metadata": {},
   "outputs": [],
   "source": []
  }
 ],
 "metadata": {
  "kernelspec": {
   "display_name": "awt2022",
   "language": "python",
   "name": "awt2022"
  },
  "language_info": {
   "codemirror_mode": {
    "name": "ipython",
    "version": 3
   },
   "file_extension": ".py",
   "mimetype": "text/x-python",
   "name": "python",
   "nbconvert_exporter": "python",
   "pygments_lexer": "ipython3",
   "version": "3.9.4"
  },
  "toc": {
   "base_numbering": 1,
   "nav_menu": {},
   "number_sections": true,
   "sideBar": true,
   "skip_h1_title": false,
   "title_cell": "Table of Contents",
   "title_sidebar": "Contents",
   "toc_cell": false,
   "toc_position": {},
   "toc_section_display": true,
   "toc_window_display": false
  },
  "vscode": {
   "interpreter": {
    "hash": "aee8b7b246df8f9039afb4144a1f6fd8d2ca17a180786b69acc140d282b71a49"
   }
  }
 },
 "nbformat": 4,
 "nbformat_minor": 5
}
