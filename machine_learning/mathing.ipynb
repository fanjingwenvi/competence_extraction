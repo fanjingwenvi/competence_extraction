{
 "cells": [
  {
   "cell_type": "code",
   "execution_count": null,
   "id": "79178b8e",
   "metadata": {},
   "outputs": [],
   "source": [
    "# pip install -U pip setuptools wheel\n",
    "# pip install -U spacy\n",
    "# python -m spacy download de_core_news_lg"
   ]
  },
  {
   "cell_type": "code",
   "execution_count": null,
   "id": "242c7364",
   "metadata": {},
   "outputs": [],
   "source": [
    "import pandas as pd\n",
    "import spacy\n",
    "sp = spacy.load('de_core_news_lg')"
   ]
  },
  {
   "cell_type": "code",
   "execution_count": null,
   "id": "3140ff0c",
   "metadata": {},
   "outputs": [],
   "source": [
    "import xmltodict"
   ]
  },
  {
   "cell_type": "code",
   "execution_count": null,
   "id": "3111bc28",
   "metadata": {},
   "outputs": [],
   "source": [
    "import itertools as it # for combinations of terms"
   ]
  },
  {
   "cell_type": "code",
   "execution_count": null,
   "id": "fc6dc164",
   "metadata": {},
   "outputs": [],
   "source": [
    "import time"
   ]
  },
  {
   "cell_type": "code",
   "execution_count": null,
   "id": "2adbac5a",
   "metadata": {},
   "outputs": [],
   "source": [
    "skills = pd.read_csv('./data/skills_de.csv')[['conceptUri','preferredLabel','description']]"
   ]
  },
  {
   "cell_type": "code",
   "execution_count": null,
   "id": "36901703",
   "metadata": {
    "scrolled": true
   },
   "outputs": [],
   "source": [
    "skills"
   ]
  },
  {
   "cell_type": "code",
   "execution_count": 5,
   "id": "6d6b03b1",
   "metadata": {},
   "outputs": [],
   "source": [
    "xml_data = open('./data/FOKUS_AWT_CompetencyExtraction_WB_Brandenburg.xml','r', encoding='ISO-8859-15').read() # read data\n",
    "xmlDict = xmltodict.parse(xml_data) # parse xml\n"
   ]
  },
  {
   "cell_type": "code",
   "execution_count": 6,
   "id": "3c00f6e2",
   "metadata": {},
   "outputs": [],
   "source": [
    "coursesDict = xmlDict['DEFTISCAT']['COURSETRANSACTIONS']['INSERTCOURSES']"
   ]
  },
  {
   "cell_type": "code",
   "execution_count": 7,
   "id": "56fc467b",
   "metadata": {},
   "outputs": [],
   "source": [
    "courses = coursesDict['COURSE']"
   ]
  },
  {
   "cell_type": "code",
   "execution_count": 9,
   "id": "91165357",
   "metadata": {},
   "outputs": [],
   "source": [
    "data = []\n",
    "\n",
    "\n",
    "counter = 1\n",
    "for course in courses:\n",
    "#     print(counter, \": \", course)\n",
    "#     print(course['CS_NAME'])\n",
    "#     print('\\n')\n",
    "    counter += 1\n",
    "    data.append({\"course_name\": course['CS_NAME'],\n",
    "                 \"course_id\": course['CS_ID'], \n",
    "                 \"course_description\": course['CS_DESC_LONG']})\n",
    "courses_table = pd.DataFrame(data)\n",
    "#     course = i\n",
    "#     data.append()\n",
    "#     course = coursesDict[i]\n",
    "#     data.append({\"course_name\": })\n"
   ]
  },
  {
   "cell_type": "code",
   "execution_count": 10,
   "id": "6396feac",
   "metadata": {},
   "outputs": [],
   "source": [
    "labels = skills['preferredLabel'].copy(deep=True)"
   ]
  },
  {
   "cell_type": "code",
   "execution_count": 11,
   "id": "c9741ac8",
   "metadata": {},
   "outputs": [
    {
     "data": {
      "text/plain": [
       "0                                  Musikpersonal verwalten\n",
       "1                    Strafvollzugsverfahren beaufsichtigen\n",
       "2                  nicht unterdrückende Praktiken anwenden\n",
       "3        Einhaltung von Vorschriften von Eisenbahnfahrz...\n",
       "4                             verfügbare Dienste ermitteln\n",
       "                               ...                        \n",
       "13886    berufliche Leistungsfähigkeit von Nutzern/Nutz...\n",
       "13887             Beleuchtung in Transportgeräten einbauen\n",
       "13888                     Verarbeitung natürlicher Sprache\n",
       "13889                             Bauarbeiten koordinieren\n",
       "13890         Absturzsicherungen und Bordbretter anbringen\n",
       "Name: preferredLabel, Length: 13891, dtype: object"
      ]
     },
     "execution_count": 11,
     "metadata": {},
     "output_type": "execute_result"
    }
   ],
   "source": [
    "labels"
   ]
  },
  {
   "cell_type": "code",
   "execution_count": 12,
   "id": "c53ced07",
   "metadata": {},
   "outputs": [],
   "source": [
    "labels_processed = []\n",
    "count = 1\n",
    "for label in (labels):\n",
    "    label = sp(label)\n",
    "    label_processed = ''\n",
    "    for word in label:\n",
    "        word = word.lemma_.lower()\n",
    "        word = str(word)\n",
    "        if word != '__' and word != '' and word != ' ':\n",
    "            if word == '\\xa0': continue\n",
    "            label_processed += word + ' '\n",
    "        count += 1\n",
    "    labels_processed.append(label_processed[:-1])"
   ]
  },
  {
   "cell_type": "code",
   "execution_count": 13,
   "id": "5e23191a",
   "metadata": {},
   "outputs": [
    {
     "data": {
      "text/html": [
       "<div>\n",
       "<style scoped>\n",
       "    .dataframe tbody tr th:only-of-type {\n",
       "        vertical-align: middle;\n",
       "    }\n",
       "\n",
       "    .dataframe tbody tr th {\n",
       "        vertical-align: top;\n",
       "    }\n",
       "\n",
       "    .dataframe thead th {\n",
       "        text-align: right;\n",
       "    }\n",
       "</style>\n",
       "<table border=\"1\" class=\"dataframe\">\n",
       "  <thead>\n",
       "    <tr style=\"text-align: right;\">\n",
       "      <th></th>\n",
       "      <th>processedLabel</th>\n",
       "    </tr>\n",
       "  </thead>\n",
       "  <tbody>\n",
       "    <tr>\n",
       "      <th>0</th>\n",
       "      <td>musikpersonal verwalten</td>\n",
       "    </tr>\n",
       "    <tr>\n",
       "      <th>1</th>\n",
       "      <td>strafvollzugsverfahr beaufsichtigen</td>\n",
       "    </tr>\n",
       "    <tr>\n",
       "      <th>2</th>\n",
       "      <td>nicht unterdrückend praktik anwenden</td>\n",
       "    </tr>\n",
       "    <tr>\n",
       "      <th>3</th>\n",
       "      <td>einhaltung von vorschrift von eisenbahnfahrzeu...</td>\n",
       "    </tr>\n",
       "    <tr>\n",
       "      <th>4</th>\n",
       "      <td>verfügbar dienst ermitteln</td>\n",
       "    </tr>\n",
       "    <tr>\n",
       "      <th>...</th>\n",
       "      <td>...</td>\n",
       "    </tr>\n",
       "    <tr>\n",
       "      <th>13886</th>\n",
       "      <td>beruflich leistungsfähigkeit von nutzer -- nut...</td>\n",
       "    </tr>\n",
       "    <tr>\n",
       "      <th>13887</th>\n",
       "      <td>beleuchtung in transportgerät einbauen</td>\n",
       "    </tr>\n",
       "    <tr>\n",
       "      <th>13888</th>\n",
       "      <td>verarbeitung natürlich sprache</td>\n",
       "    </tr>\n",
       "    <tr>\n",
       "      <th>13889</th>\n",
       "      <td>bauarbeit koordinieren</td>\n",
       "    </tr>\n",
       "    <tr>\n",
       "      <th>13890</th>\n",
       "      <td>absturzsicherung und bordbretter anbringen</td>\n",
       "    </tr>\n",
       "  </tbody>\n",
       "</table>\n",
       "<p>13891 rows × 1 columns</p>\n",
       "</div>"
      ],
      "text/plain": [
       "                                          processedLabel\n",
       "0                                musikpersonal verwalten\n",
       "1                    strafvollzugsverfahr beaufsichtigen\n",
       "2                   nicht unterdrückend praktik anwenden\n",
       "3      einhaltung von vorschrift von eisenbahnfahrzeu...\n",
       "4                             verfügbar dienst ermitteln\n",
       "...                                                  ...\n",
       "13886  beruflich leistungsfähigkeit von nutzer -- nut...\n",
       "13887             beleuchtung in transportgerät einbauen\n",
       "13888                     verarbeitung natürlich sprache\n",
       "13889                             bauarbeit koordinieren\n",
       "13890         absturzsicherung und bordbretter anbringen\n",
       "\n",
       "[13891 rows x 1 columns]"
      ]
     },
     "execution_count": 13,
     "metadata": {},
     "output_type": "execute_result"
    }
   ],
   "source": [
    "pd.DataFrame(labels_processed, columns = ['processedLabel'])"
   ]
  },
  {
   "cell_type": "code",
   "execution_count": 14,
   "id": "a1df1640",
   "metadata": {},
   "outputs": [],
   "source": [
    "skill_descriptions = skills['description'].copy(deep=True)"
   ]
  },
  {
   "cell_type": "code",
   "execution_count": 15,
   "id": "aef0ee90",
   "metadata": {},
   "outputs": [
    {
     "data": {
      "text/plain": [
       "0        Zuweisen und Verwalten der Aufgaben des Person...\n",
       "1        Überwachen des Betriebs einer Justizvollzugsan...\n",
       "2        Ermitteln von Repressionen in Gesellschaften, ...\n",
       "3        Kontrollieren von Fahrzeugen, Komponenten und ...\n",
       "4        Ermitteln der verschiedenen verfügbaren Dienst...\n",
       "                               ...                        \n",
       "13886    Wiederherstellen der kognitiven, sensomotorisc...\n",
       "13887    Einbau von Beleuchtungselementen in Transportg...\n",
       "13888    Technologien, die es IKT-Geräten ermöglichen, ...\n",
       "13889    Koordinierung der Tätigkeiten mehrerer Bauarbe...\n",
       "13890    Anbringen von Absturzsicherungen und Bordbrett...\n",
       "Name: description, Length: 13891, dtype: object"
      ]
     },
     "execution_count": 15,
     "metadata": {},
     "output_type": "execute_result"
    }
   ],
   "source": [
    "skill_descriptions"
   ]
  },
  {
   "cell_type": "code",
   "execution_count": 16,
   "id": "87617ae6",
   "metadata": {},
   "outputs": [],
   "source": [
    "courses_table['course_info'] = courses_table['course_name'] + \" \" + courses_table['course_description']\n",
    "courses_info = courses_table['course_info'].copy(deep=True)"
   ]
  },
  {
   "cell_type": "code",
   "execution_count": 132,
   "id": "ed94a699",
   "metadata": {},
   "outputs": [],
   "source": [
    "courses_info_processed = []\n",
    "for course_info in (courses_info):\n",
    "    course_info = sp(str(course_info))\n",
    "    course_info_processed = ''\n",
    "    for word in course_info:\n",
    "        if not word.is_stop:\n",
    "            word = word.lemma_.lower()\n",
    "            if word != '--' and word != \"\" and word != \" \":\n",
    "                if \"/-\" in word: word = word.split(\"/-\")[0]\n",
    "                course_info_processed += word + ' '\n",
    "    courses_info_processed.append(course_info_processed)"
   ]
  },
  {
   "cell_type": "code",
   "execution_count": 133,
   "id": "e3b19504",
   "metadata": {
    "scrolled": true
   },
   "outputs": [
    {
     "data": {
      "text/html": [
       "<div>\n",
       "<style scoped>\n",
       "    .dataframe tbody tr th:only-of-type {\n",
       "        vertical-align: middle;\n",
       "    }\n",
       "\n",
       "    .dataframe tbody tr th {\n",
       "        vertical-align: top;\n",
       "    }\n",
       "\n",
       "    .dataframe thead th {\n",
       "        text-align: right;\n",
       "    }\n",
       "</style>\n",
       "<table border=\"1\" class=\"dataframe\">\n",
       "  <thead>\n",
       "    <tr style=\"text-align: right;\">\n",
       "      <th></th>\n",
       "      <th>coursesInfoProcessed</th>\n",
       "    </tr>\n",
       "  </thead>\n",
       "  <tbody>\n",
       "    <tr>\n",
       "      <th>0</th>\n",
       "      <td>schwierig klient patient angehörige kollege cl...</td>\n",
       "    </tr>\n",
       "    <tr>\n",
       "      <th>1</th>\n",
       "      <td>aktuelles arbeitsrecht 2022 kurzbeschreibung \\...</td>\n",
       "    </tr>\n",
       "    <tr>\n",
       "      <th>2</th>\n",
       "      <td>ambulant pflege rechtssicher handeln haftungsr...</td>\n",
       "    </tr>\n",
       "    <tr>\n",
       "      <th>3</th>\n",
       "      <td>aufgabe gesetzlich betreuer reform betreuungsr...</td>\n",
       "    </tr>\n",
       "    <tr>\n",
       "      <th>4</th>\n",
       "      <td>basisqualifikation ungelernt pflegekräft zerti...</td>\n",
       "    </tr>\n",
       "    <tr>\n",
       "      <th>...</th>\n",
       "      <td>...</td>\n",
       "    </tr>\n",
       "    <tr>\n",
       "      <th>16847</th>\n",
       "      <td>5 monat weiterbildung organisation &amp; führung l...</td>\n",
       "    </tr>\n",
       "    <tr>\n",
       "      <th>16848</th>\n",
       "      <td>conversion usability experte ziel maßnahme tei...</td>\n",
       "    </tr>\n",
       "    <tr>\n",
       "      <th>16849</th>\n",
       "      <td>digital transformation management ziel maßnahm...</td>\n",
       "    </tr>\n",
       "    <tr>\n",
       "      <th>16850</th>\n",
       "      <td>e-commerce geschäftsmodell ziel maßnahme teiln...</td>\n",
       "    </tr>\n",
       "    <tr>\n",
       "      <th>16851</th>\n",
       "      <td>experte digital content creation teilnehmer di...</td>\n",
       "    </tr>\n",
       "  </tbody>\n",
       "</table>\n",
       "<p>16852 rows × 1 columns</p>\n",
       "</div>"
      ],
      "text/plain": [
       "                                    coursesInfoProcessed\n",
       "0      schwierig klient patient angehörige kollege cl...\n",
       "1      aktuelles arbeitsrecht 2022 kurzbeschreibung \\...\n",
       "2      ambulant pflege rechtssicher handeln haftungsr...\n",
       "3      aufgabe gesetzlich betreuer reform betreuungsr...\n",
       "4      basisqualifikation ungelernt pflegekräft zerti...\n",
       "...                                                  ...\n",
       "16847  5 monat weiterbildung organisation & führung l...\n",
       "16848  conversion usability experte ziel maßnahme tei...\n",
       "16849  digital transformation management ziel maßnahm...\n",
       "16850  e-commerce geschäftsmodell ziel maßnahme teiln...\n",
       "16851  experte digital content creation teilnehmer di...\n",
       "\n",
       "[16852 rows x 1 columns]"
      ]
     },
     "execution_count": 133,
     "metadata": {},
     "output_type": "execute_result"
    }
   ],
   "source": [
    "pd.DataFrame(courses_info_processed, columns = ['coursesInfoProcessed'])"
   ]
  },
  {
   "cell_type": "code",
   "execution_count": 126,
   "id": "2e023a63",
   "metadata": {},
   "outputs": [],
   "source": [
    "courses_info_2 = courses_table['course_info'].copy(deep=True)"
   ]
  },
  {
   "cell_type": "code",
   "execution_count": 137,
   "id": "a3523cc3",
   "metadata": {},
   "outputs": [],
   "source": [
    "courses_info_processed_2 = []\n",
    "for course_info in (courses_info_2):\n",
    "    doc = sp(str(course_info))\n",
    "    course_info_processed = ''\n",
    "    sentences = []\n",
    "    for sent in doc.sents:\n",
    "        for word in sent:\n",
    "            if not word.is_stop:\n",
    "                word = word.lemma_.lower()\n",
    "                if word != '--' and word != \"\" and word != \" \":\n",
    "                    if \"/-\" in word: word = word.split(\"/-\")[0]\n",
    "                    course_info_processed += word + ' '\n",
    "        sentences.append(course_info_processed)\n",
    "        course_info_processed = ''\n",
    "#         print(sentences)\n",
    "#         break\n",
    "    courses_info_processed_2.append(sentences)"
   ]
  },
  {
   "cell_type": "code",
   "execution_count": 146,
   "id": "777d73df",
   "metadata": {},
   "outputs": [
    {
     "data": {
      "text/plain": [
       "['aktuelles arbeitsrecht 2022 kurzbeschreibung \\n ',\n",
       " 'arbeitsrecht unterliegen ständig wandel änderung gesetzgebung folgend rechtsprechung ',\n",
       " 'seminar erhalten notwendig \\n kenntnis vorschrift beziehen sozial einrichtung rechtssicher handeln unnötig gerichtlich auseinandersetzung vermeiden ',\n",
       " '\\n\\n beschäftigtendatenschutz eudsgvo bdsg ',\n",
       " '\\n urlaubsrecht urlaubsplanung verfall anspruch abgeltung urlaub \\n qualifizierungsvereinbarunge bindungsklausel \\n befristung arbeitsverträgen sachgrund ',\n",
       " '\\n inhaltliche gestaltungsmöglichkeit arbeitsverträg \\n ',\n",
       " 'arbeitszeitrecht bereitschaftsdienste über mehrstunden \\n arbeitsrechtlich sanktion ermahnung abmahnung kündigung \\n bedeutung eingliederungsmanagement personenbedingt kündigung krankheit \\n übersicht aktuell rechtsprechung arbeitsgericht \\n\\n ',\n",
       " 'grund aktualität kurzfristig thema aufnehmen ']"
      ]
     },
     "execution_count": 146,
     "metadata": {},
     "output_type": "execute_result"
    }
   ],
   "source": [
    "courses_info_processed_2[1]"
   ]
  },
  {
   "cell_type": "code",
   "execution_count": null,
   "id": "2fea0296",
   "metadata": {},
   "outputs": [],
   "source": [
    "pd.DataFrame(courses_info_processed_2, columns = ['coursesInfoProcessed'])"
   ]
  },
  {
   "cell_type": "markdown",
   "id": "e67e03b9",
   "metadata": {},
   "source": [
    "termStore: {controlled vocabulary (vocabularies in label): URI}"
   ]
  },
  {
   "cell_type": "code",
   "execution_count": 20,
   "id": "e7d69e2c",
   "metadata": {},
   "outputs": [],
   "source": [
    "termStore = {}\n",
    "URI = 0\n",
    "for label_processed in labels_processed:\n",
    "    label_processed = sp(label_processed)\n",
    "    for word in label_processed:\n",
    "        word = str(word)\n",
    "        if word not in termStore:\n",
    "            termStore[word] = URI\n",
    "            URI += 1"
   ]
  },
  {
   "cell_type": "code",
   "execution_count": 21,
   "id": "bc88504d",
   "metadata": {},
   "outputs": [
    {
     "data": {
      "text/html": [
       "<div>\n",
       "<style scoped>\n",
       "    .dataframe tbody tr th:only-of-type {\n",
       "        vertical-align: middle;\n",
       "    }\n",
       "\n",
       "    .dataframe tbody tr th {\n",
       "        vertical-align: top;\n",
       "    }\n",
       "\n",
       "    .dataframe thead th {\n",
       "        text-align: right;\n",
       "    }\n",
       "</style>\n",
       "<table border=\"1\" class=\"dataframe\">\n",
       "  <thead>\n",
       "    <tr style=\"text-align: right;\">\n",
       "      <th></th>\n",
       "      <th>controlledVocabulary</th>\n",
       "      <th>URI</th>\n",
       "    </tr>\n",
       "  </thead>\n",
       "  <tbody>\n",
       "    <tr>\n",
       "      <th>0</th>\n",
       "      <td>musikpersonal</td>\n",
       "      <td>0</td>\n",
       "    </tr>\n",
       "    <tr>\n",
       "      <th>1</th>\n",
       "      <td>verwalten</td>\n",
       "      <td>1</td>\n",
       "    </tr>\n",
       "    <tr>\n",
       "      <th>2</th>\n",
       "      <td>strafvollzugsverfahr</td>\n",
       "      <td>2</td>\n",
       "    </tr>\n",
       "    <tr>\n",
       "      <th>3</th>\n",
       "      <td>beaufsichtigen</td>\n",
       "      <td>3</td>\n",
       "    </tr>\n",
       "    <tr>\n",
       "      <th>4</th>\n",
       "      <td>nicht</td>\n",
       "      <td>4</td>\n",
       "    </tr>\n",
       "    <tr>\n",
       "      <th>...</th>\n",
       "      <td>...</td>\n",
       "      <td>...</td>\n",
       "    </tr>\n",
       "    <tr>\n",
       "      <th>12208</th>\n",
       "      <td>scala</td>\n",
       "      <td>12208</td>\n",
       "    </tr>\n",
       "    <tr>\n",
       "      <th>12209</th>\n",
       "      <td>bodentragfähigkeit</td>\n",
       "      <td>12209</td>\n",
       "    </tr>\n",
       "    <tr>\n",
       "      <th>12210</th>\n",
       "      <td>bibliotheksartikel</td>\n",
       "      <td>12210</td>\n",
       "    </tr>\n",
       "    <tr>\n",
       "      <th>12211</th>\n",
       "      <td>absturzsicherung</td>\n",
       "      <td>12211</td>\n",
       "    </tr>\n",
       "    <tr>\n",
       "      <th>12212</th>\n",
       "      <td>bordbretter</td>\n",
       "      <td>12212</td>\n",
       "    </tr>\n",
       "  </tbody>\n",
       "</table>\n",
       "<p>12213 rows × 2 columns</p>\n",
       "</div>"
      ],
      "text/plain": [
       "       controlledVocabulary    URI\n",
       "0             musikpersonal      0\n",
       "1                 verwalten      1\n",
       "2      strafvollzugsverfahr      2\n",
       "3            beaufsichtigen      3\n",
       "4                     nicht      4\n",
       "...                     ...    ...\n",
       "12208                 scala  12208\n",
       "12209    bodentragfähigkeit  12209\n",
       "12210    bibliotheksartikel  12210\n",
       "12211      absturzsicherung  12211\n",
       "12212           bordbretter  12212\n",
       "\n",
       "[12213 rows x 2 columns]"
      ]
     },
     "execution_count": 21,
     "metadata": {},
     "output_type": "execute_result"
    }
   ],
   "source": [
    "pd.DataFrame(termStore.items(), columns = ['controlledVocabulary', 'URI'])"
   ]
  },
  {
   "cell_type": "code",
   "execution_count": 97,
   "id": "0712fa51",
   "metadata": {},
   "outputs": [
    {
     "name": "stdout",
     "output_type": "stream",
     "text": [
      "time:  73.65093493461609\n"
     ]
    }
   ],
   "source": [
    "tic = time.time()\n",
    "sequenceStore = {}\n",
    "URIs_list = []\n",
    "for i, label_processed in enumerate(labels_processed):\n",
    "    URIs = set()\n",
    "    label_processed = sp(label_processed)\n",
    "    for word in label_processed:\n",
    "        URIs.add(termStore[str(word)])\n",
    "    sequenceStore[tuple(URIs)] = (i, str(label_processed))\n",
    "    URIs_list.append(URIs)\n",
    "URIs_tuple = tuple(URIs_list)\n",
    "toc = time.time()\n",
    "print('time: ', toc-tic)"
   ]
  },
  {
   "cell_type": "code",
   "execution_count": 81,
   "id": "a8d290ee",
   "metadata": {},
   "outputs": [
    {
     "name": "stdout",
     "output_type": "stream",
     "text": [
      "time:  72.81641602516174\n"
     ]
    }
   ],
   "source": [
    "# tic = time.time()\n",
    "# sequenceStore = {}\n",
    "# # URI_set = set()\n",
    "# for i, label_processed in enumerate(labels_processed):\n",
    "#     URIs = []\n",
    "#     label_processed = sp(label_processed)\n",
    "#     for word in label_processed:\n",
    "#         URIs.append(termStore[str(word)])\n",
    "#     sequenceStore[tuple(URIs)] = (i, str(label_processed))\n",
    "# #     URI_set.add(tuple(URIs))\n",
    "# toc = time.time()\n",
    "# print('time: ', toc-tic)"
   ]
  },
  {
   "cell_type": "code",
   "execution_count": 100,
   "id": "f334d7b9",
   "metadata": {
    "scrolled": true
   },
   "outputs": [
    {
     "data": {
      "text/html": [
       "<div>\n",
       "<style scoped>\n",
       "    .dataframe tbody tr th:only-of-type {\n",
       "        vertical-align: middle;\n",
       "    }\n",
       "\n",
       "    .dataframe tbody tr th {\n",
       "        vertical-align: top;\n",
       "    }\n",
       "\n",
       "    .dataframe thead th {\n",
       "        text-align: right;\n",
       "    }\n",
       "</style>\n",
       "<table border=\"1\" class=\"dataframe\">\n",
       "  <thead>\n",
       "    <tr style=\"text-align: right;\">\n",
       "      <th></th>\n",
       "      <th>URIs</th>\n",
       "      <th>(index, label)</th>\n",
       "    </tr>\n",
       "  </thead>\n",
       "  <tbody>\n",
       "    <tr>\n",
       "      <th>0</th>\n",
       "      <td>(0, 1)</td>\n",
       "      <td>(0, musikpersonal verwalten)</td>\n",
       "    </tr>\n",
       "    <tr>\n",
       "      <th>1</th>\n",
       "      <td>(2, 3)</td>\n",
       "      <td>(1, strafvollzugsverfahr beaufsichtigen)</td>\n",
       "    </tr>\n",
       "    <tr>\n",
       "      <th>2</th>\n",
       "      <td>(4, 5, 6, 7)</td>\n",
       "      <td>(2, nicht unterdrückend praktik anwenden)</td>\n",
       "    </tr>\n",
       "    <tr>\n",
       "      <th>3</th>\n",
       "      <td>(8, 9, 10, 11, 12)</td>\n",
       "      <td>(3, einhaltung von vorschrift von eisenbahnfah...</td>\n",
       "    </tr>\n",
       "    <tr>\n",
       "      <th>4</th>\n",
       "      <td>(13, 14, 15)</td>\n",
       "      <td>(4, verfügbar dienst ermitteln)</td>\n",
       "    </tr>\n",
       "    <tr>\n",
       "      <th>...</th>\n",
       "      <td>...</td>\n",
       "      <td>...</td>\n",
       "    </tr>\n",
       "    <tr>\n",
       "      <th>13879</th>\n",
       "      <td>(6882, 9, 522, 523, 1837, 48, 1366, 728, 29)</td>\n",
       "      <td>(13886, beruflich leistungsfähigkeit von nutze...</td>\n",
       "    </tr>\n",
       "    <tr>\n",
       "      <th>13880</th>\n",
       "      <td>(66, 309, 1934, 2247)</td>\n",
       "      <td>(13887, beleuchtung in transportgerät einbauen)</td>\n",
       "    </tr>\n",
       "    <tr>\n",
       "      <th>13881</th>\n",
       "      <td>(1778, 1363, 2396)</td>\n",
       "      <td>(13888, verarbeitung natürlich sprache)</td>\n",
       "    </tr>\n",
       "    <tr>\n",
       "      <th>13882</th>\n",
       "      <td>(499, 3638)</td>\n",
       "      <td>(13889, bauarbeit koordinieren)</td>\n",
       "    </tr>\n",
       "    <tr>\n",
       "      <th>13883</th>\n",
       "      <td>(12212, 12211, 52, 1173)</td>\n",
       "      <td>(13890, absturzsicherung und bordbretter anbri...</td>\n",
       "    </tr>\n",
       "  </tbody>\n",
       "</table>\n",
       "<p>13884 rows × 2 columns</p>\n",
       "</div>"
      ],
      "text/plain": [
       "                                               URIs  \\\n",
       "0                                            (0, 1)   \n",
       "1                                            (2, 3)   \n",
       "2                                      (4, 5, 6, 7)   \n",
       "3                                (8, 9, 10, 11, 12)   \n",
       "4                                      (13, 14, 15)   \n",
       "...                                             ...   \n",
       "13879  (6882, 9, 522, 523, 1837, 48, 1366, 728, 29)   \n",
       "13880                         (66, 309, 1934, 2247)   \n",
       "13881                            (1778, 1363, 2396)   \n",
       "13882                                   (499, 3638)   \n",
       "13883                      (12212, 12211, 52, 1173)   \n",
       "\n",
       "                                          (index, label)  \n",
       "0                           (0, musikpersonal verwalten)  \n",
       "1               (1, strafvollzugsverfahr beaufsichtigen)  \n",
       "2              (2, nicht unterdrückend praktik anwenden)  \n",
       "3      (3, einhaltung von vorschrift von eisenbahnfah...  \n",
       "4                        (4, verfügbar dienst ermitteln)  \n",
       "...                                                  ...  \n",
       "13879  (13886, beruflich leistungsfähigkeit von nutze...  \n",
       "13880    (13887, beleuchtung in transportgerät einbauen)  \n",
       "13881            (13888, verarbeitung natürlich sprache)  \n",
       "13882                    (13889, bauarbeit koordinieren)  \n",
       "13883  (13890, absturzsicherung und bordbretter anbri...  \n",
       "\n",
       "[13884 rows x 2 columns]"
      ]
     },
     "execution_count": 100,
     "metadata": {},
     "output_type": "execute_result"
    }
   ],
   "source": [
    "pd.DataFrame(sequenceStore.items(), columns = ['URIs', '(index, label)'])"
   ]
  },
  {
   "cell_type": "code",
   "execution_count": 92,
   "id": "568362cd",
   "metadata": {},
   "outputs": [
    {
     "data": {
      "text/plain": [
       "0"
      ]
     },
     "execution_count": 92,
     "metadata": {},
     "output_type": "execute_result"
    }
   ],
   "source": [
    "sequenceStore[tuple(set((1,0)))][0]"
   ]
  },
  {
   "cell_type": "code",
   "execution_count": 166,
   "id": "c2e9805f",
   "metadata": {},
   "outputs": [],
   "source": [
    "def get_relations(index_start, index_end):\n",
    "    URIs_candidates = []\n",
    "\n",
    "    word_candidates = []\n",
    "    relations = []\n",
    "\n",
    "    \n",
    "    courses_info_processed_subset = courses_info_processed[index_start:index_end]\n",
    "    for i, course_info_processed in enumerate(courses_info_processed_subset):\n",
    "        index_course = index_start + i\n",
    "        doc = sp(course_info_processed)\n",
    "        for word in doc:\n",
    "            word = str(word)\n",
    "            if word in termStore:\n",
    "#                 word_candidates.append(word)\n",
    "                URIs_candidates.append(termStore[word])\n",
    "            else:\n",
    "                if URIs_candidates != []:\n",
    "                    URIs_candidates, relations = check_candidates(URIs_candidates, index_course, relations)\n",
    "#                 word_candidates = []\n",
    "                       \n",
    "      \n",
    "    URIs_candidates, relations = check_candidates(URIs_candidates, index_course, relations)\n",
    "    print(\"calculate: \", len(relations))\n",
    "    for relation in relations:\n",
    "        print(courses_table['course_name'][relation[0]] + '   ' + courses_table['course_id'][relation[0]])\n",
    "        print(' ---> ' + skills['preferredLabel'][relation[1]] + '   ' + skills['conceptUri'][relation[1]])\n",
    "        print()\n",
    "            \n",
    "\n",
    "def check_candidates(URIs_candidates, index_course, relations):\n",
    "    n = len(URIs_candidates)\n",
    "    for i in range(n):\n",
    "        for j in range(i+1, n+1):\n",
    "            URIs = tuple(URIs_candidates[i:j])\n",
    "            if set(URIs) in URIs_tuple:\n",
    "                index_label = sequenceStore[URIs][0]\n",
    "                if (index_course, index_label) not in relations:\n",
    "                    relations.append((index_course, index_label))\n",
    "    URIs_candidates = []\n",
    "    return URIs_candidates, relations\n",
    "\n",
    "                \n",
    "                \n",
    "    "
   ]
  },
  {
   "cell_type": "code",
   "execution_count": 167,
   "id": "6d1adbdf",
   "metadata": {
    "scrolled": false
   },
   "outputs": [
    {
     "name": "stdout",
     "output_type": "stream",
     "text": [
      "calculate:  31\n",
      "Englisch - Grundkurs (Seminar zur Grundversorgung nach dem BbgWBG)   4527E4F0-2B73-354B-C2F2-6F98EAF15940\n",
      " ---> Englisch   http://data.europa.eu/esco/skill/6d3edede-8951-4621-a835-e04323300fa0\n",
      "\n",
      "Finanzbuchführung EDV-unterstützt - Anwendung kaufmännischer Software - Modul 2 kaufmännischer Bereich   6C51A9EA-8369-9EF6-469B-8F192B60DCBC\n",
      " ---> Jahresabschluss   http://data.europa.eu/esco/skill/4a460161-eaea-4fe2-bd0e-164ccc635be1\n",
      "\n",
      "Finanzbuchführung Jahresabschluss / Anlagenbuchhaltung - EDV-unterstützt - Modul 11 kaufmännischer Bereich   6C526AE1-187A-A1EE-D557-B57FB448EE03\n",
      " ---> Jahresabschluss   http://data.europa.eu/esco/skill/4a460161-eaea-4fe2-bd0e-164ccc635be1\n",
      "\n",
      "Floristik - Aufbaukurs (Seminar zur Grundversorgung nach dem BbgWBG)   66069977-B962-279F-5150-A16BEE852538\n",
      " ---> Jahresabschluss   http://data.europa.eu/esco/skill/4a460161-eaea-4fe2-bd0e-164ccc635be1\n",
      "\n",
      "Fräsen konventionell - Modul 13   6C4A31B0-D8EC-C786-8E8D-609AEA7E08AD\n",
      " ---> planen   http://data.europa.eu/esco/skill/e49f4158-9d4c-425d-bf32-dfe89b19840a\n",
      "\n",
      "Geprüfter Industriemeister/ Geprüfte Industriemeisterin Fachrichtung Metall   69FAEA3F-32B2-261E-9F1B-5C721C6862EF\n",
      " ---> Kommunikation   http://data.europa.eu/esco/skill/15d76317-c71a-4fa2-aadc-2ecc34e627b7\n",
      "\n",
      "Gesunde Ernährung für die Familie (Seminar zur Grundversorgung nach dem BbgWBG)   64AA4F58-BD57-75E1-CD8C-96D4301739E9\n",
      " ---> Ernährung   http://data.europa.eu/esco/skill/13d96098-2ff0-46b8-b326-b7c0e18cc1f1\n",
      "\n",
      "Grundlagen der Diätküche (Seminar zur Grundversorgung nach dem BbgWBG)   64AA8FC6-4430-00A5-3218-B3B67E9E0C47\n",
      " ---> Ernährung   http://data.europa.eu/esco/skill/13d96098-2ff0-46b8-b326-b7c0e18cc1f1\n",
      "\n",
      "Grundlagen der Finanzbuchführung - Modul 1 kaufmännischer Bereich   6C519C65-C16E-E1C6-915D-2BD68B48F5AA\n",
      " ---> Buchführung   http://data.europa.eu/esco/skill/ecc18804-a466-40d9-98b4-fba5cd67dd4b\n",
      "\n",
      "Grundlagen der Lohn- und Gehaltsabrechnung - Modul 7 kaufmännischer Bereich   6C522C63-DEE4-4CBF-74D6-97345AB6F31A\n",
      " ---> Abschreibung   http://data.europa.eu/esco/skill/64be6a06-52e8-4f5c-b64d-caa516cfa291\n",
      "\n",
      "Grundlagen IT, Betriebssystem Microsoft Windows, Textverarbeitung Microsoft Word - Modul 3 kaufmännischer Bereich   6C51B62C-6FDA-AA53-4652-986CDC790E98\n",
      " ---> Betriebssysteme   http://data.europa.eu/esco/skill/f9a6f35b-01a7-40c9-8b61-b6ee46f97272\n",
      "\n",
      "Grundlagen IT, Betriebssystem Microsoft Windows, Textverarbeitung Microsoft Word - Modul 3 kaufmännischer Bereich   6C51B62C-6FDA-AA53-4652-986CDC790E98\n",
      " ---> Informatik   http://data.europa.eu/esco/skill/7b5cce4d-c7fe-4119-b48f-70aa05391787\n",
      "\n",
      "Grundlagen IT, Betriebssystem Microsoft Windows, Textverarbeitung Microsoft Word - Modul 3 kaufmännischer Bereich   6C51B62C-6FDA-AA53-4652-986CDC790E98\n",
      " ---> Datenschutz   http://data.europa.eu/esco/skill/a4346013-a967-4a58-a533-6b32ad1364c5\n",
      "\n",
      "Grundlagen IT; Betriebssysteme Microsoft; Internet und E-Mail-Dienste - Modul 11   6C4A123C-0041-1CAA-3420-19CCE8E2F127\n",
      " ---> Betriebssysteme   http://data.europa.eu/esco/skill/f9a6f35b-01a7-40c9-8b61-b6ee46f97272\n",
      "\n",
      "Hydraulik - Modul 5   6C49BF08-4D0E-E424-1259-76AD88487C9F\n",
      " ---> Hydraulik   http://data.europa.eu/esco/skill/68e66ed6-a171-4350-8ec1-2cfc4cae50e4\n",
      "\n",
      "Hydraulik - Modul 5   6C49BF08-4D0E-E424-1259-76AD88487C9F\n",
      " ---> Schaltpläne   http://data.europa.eu/esco/skill/02c71cde-f513-43da-8952-0974763c7568\n",
      "\n",
      "Kaufmännische Grundkenntnisse im Industriebetrieb (Seminar zur Grundversorgung nach dem BbgWBG)   45270190-9FC7-7612-2C90-A07486402C56\n",
      " ---> CSS   http://data.europa.eu/esco/skill/e5d1f825-60ed-4bdd-872a-e748c387f777\n",
      "\n",
      "Kaufmännische Grundkenntnisse im Industriebetrieb (Seminar zur Grundversorgung nach dem BbgWBG)   45270190-9FC7-7612-2C90-A07486402C56\n",
      " ---> JavaScript   http://data.europa.eu/esco/skill/3cd569a2-4f88-4c1e-9995-8dce8c5e51a7\n",
      "\n",
      "Kosten- und Leistungsrechnung/ Controlling - EDV-unterstützt (LEXWARE, KHK) - Modul 10 kaufmännischer Bereich   6C525EF7-EEC3-3AB7-05EE-35697F71320B\n",
      " ---> Kontrollsysteme   http://data.europa.eu/esco/skill/4ff549c3-daa5-4def-9916-301c7bdf13b8\n",
      "\n",
      "Lager/ Logistik Gabelstaplerschein, Grundlagen der Beschaffungs- und Lagerlogistik - Modul 13 kaufmännischer Bereich   6C5280D2-9D78-8A82-CEE8-DB610997393D\n",
      " ---> Logistik   http://data.europa.eu/esco/skill/e843973c-23dd-416a-8a9c-9e89512542fb\n",
      "\n",
      "Maschinenlehrgänge für Holzbearbeitungsmaschinen - Modul 19   6C4A95E4-24BB-BA0B-0139-4C27FC3FF9B8\n",
      " ---> planen   http://data.europa.eu/esco/skill/e49f4158-9d4c-425d-bf32-dfe89b19840a\n",
      "\n",
      "Mechatronische Systeme - Modul 9   6C49FA53-686B-BCFD-13E1-957C8BE7F46D\n",
      " ---> Inbetriebnahme   http://data.europa.eu/esco/skill/4ca91852-c534-4b98-ab1c-59a126534c88\n",
      "\n",
      "Messtechnik und Qualitätssicherung - Modul 2   6C4989B7-04CB-BF94-9209-B010B1BA6AC3\n",
      " ---> Messtechnik   http://data.europa.eu/esco/skill/a181e89d-44ae-40e7-8d37-177071237c74\n",
      "\n",
      "Metallbe- und -verarbeitung - Modul 1   6C4967E1-6599-9FAF-9786-8B5876B6496F\n",
      " ---> Kommunikation   http://data.europa.eu/esco/skill/15d76317-c71a-4fa2-aadc-2ecc34e627b7\n",
      "\n",
      "Microsoft Access - Grundkurs (Seminar zur Grundversorgung nach dem BbgWBG)   64A857CA-E8FB-B677-0C03-4C3AF27C8AB2\n",
      " ---> Mathematik   http://data.europa.eu/esco/skill/4339176e-3acd-4f7f-a5d9-445bee3d23f2\n",
      "\n",
      "Microsoft Access - Grundkurs (Seminar zur Grundversorgung nach dem BbgWBG)   64A857CA-E8FB-B677-0C03-4C3AF27C8AB2\n",
      " ---> Microsoft Access   http://data.europa.eu/esco/skill/3d03c40c-1b83-4793-8902-2523f40af59e\n",
      "\n",
      "Microsoft Excel für den professionellen Einsatz, Schwerpunkt VBA - Modul 15 kaufmännischer Bereich   6C52A173-8E61-1410-BDFF-2C0C6FCDC706\n",
      " ---> Visual Basic   http://data.europa.eu/esco/skill/13bdd41a-2a18-441f-96db-41252c519413\n",
      "\n",
      "Personalwesen, Arbeits- und Sozialrecht - Modul 12 kaufmännischer Bereich   6C527470-A554-4009-38D9-EB505FE7826E\n",
      " ---> Personalwesen   http://data.europa.eu/esco/skill/e437eba1-3e22-41f2-8703-741e94785cba\n",
      "\n",
      "Pneumatik - Modul 6   6C49CFF0-BC95-57A8-57AD-0C25D8B74AC0\n",
      " ---> Pneumatik   http://data.europa.eu/esco/skill/bf419e00-8548-491a-a06f-d72ab439df2f\n",
      "\n",
      "Speicher Programmierbare Steuerung - Aufbaumodul 4   6C49A84B-02EB-B3B4-EC00-631A1AC151A2\n",
      " ---> Automatisierungstechnik   http://data.europa.eu/esco/skill/f4a6e9f7-5cff-46c0-894c-59c20bb78694\n",
      "\n",
      "Speicher Programmierbare Steuerung - Grundmodul 3   6C499148-FBDB-BD6A-CBD4-37A99649A97A\n",
      " ---> speicherprogrammierbare Steuerung   http://data.europa.eu/esco/skill/6468e5fb-f3be-4025-87be-4b6556755c61\n",
      "\n",
      "time:  0.9381918907165527\n"
     ]
    }
   ],
   "source": [
    "tic = time.time()\n",
    "get_relations(300,350)\n",
    "toc = time.time()\n",
    "print(\"time: \", toc-tic)"
   ]
  },
  {
   "cell_type": "code",
   "execution_count": 164,
   "id": "cdaae3ee",
   "metadata": {},
   "outputs": [],
   "source": [
    "def get_relations_2(index_start, index_end):\n",
    "    URIs_candidates = []\n",
    "\n",
    "    word_candidates = []\n",
    "    relations = []\n",
    "    \n",
    "    URIs_unordered = []\n",
    "    relations_2 = []\n",
    "    \n",
    "    courses_info_processed_subset = courses_info_processed_2[index_start:index_end]\n",
    "    for i, course_info_processed in enumerate(courses_info_processed_subset):\n",
    "        index_course = index_start + i\n",
    "        for sent in course_info_processed:\n",
    "            doc = sp(sent)\n",
    "            for word in doc:\n",
    "                word = str(word)\n",
    "                if word in termStore:\n",
    "                    URIs_unordered.append(termStore[word])\n",
    "                # without order & uris for a whole sentence\n",
    "    #         for sent in doc.sents:\n",
    "    # #             print(sent.text)\n",
    "    #             for word in sent:\n",
    "    #             if word in termStore:\n",
    "    # #                     word_candidates.append(word)\n",
    "    #                     URIs_unordered.append(termStore[word.text])\n",
    "            if URIs_unordered != []:\n",
    "                URIs_unordered, relations_2 = check_all_combinations(URIs_unordered, index_course, relations_2) \n",
    "                 \n",
    "    print(\"calculate: \", len(relations_2))   \n",
    "    for relation in relations_2:\n",
    "        print(courses_table['course_name'][relation[0]] + '   ' + courses_table['course_id'][relation[0]])\n",
    "        print(' ---> ' + skills['preferredLabel'][relation[1]] + '   ' + skills['conceptUri'][relation[1]])\n",
    "        print()\n",
    "            \n",
    "\n",
    "\n",
    "def check_all_combinations(URIs, index_course, relations_2):\n",
    "    URI_tuple = tuple(set(URIs))\n",
    "    for i in range(1, len(URI_tuple)+1):\n",
    "        combinations = it.combinations(URI_tuple,i)\n",
    "        for candidate in combinations:\n",
    "#             print('can:    ', candidate)\n",
    "            if set(candidate) in URIs_tuple:\n",
    "                index_label = sequenceStore[tuple(set(candidate))][0]\n",
    "                if (index_course, index_label) not in relations_2:\n",
    "                    relations_2.append((index_course, index_label))\n",
    "    return [], relations_2\n",
    "                \n",
    "                "
   ]
  },
  {
   "cell_type": "code",
   "execution_count": 165,
   "id": "3b157549",
   "metadata": {
    "scrolled": false
   },
   "outputs": [
    {
     "name": "stdout",
     "output_type": "stream",
     "text": [
      "calculate:  33\n",
      "Englisch - Grundkurs (Seminar zur Grundversorgung nach dem BbgWBG)   4527E4F0-2B73-354B-C2F2-6F98EAF15940\n",
      " ---> Englisch   http://data.europa.eu/esco/skill/6d3edede-8951-4621-a835-e04323300fa0\n",
      "\n",
      "Finanzbuchführung EDV-unterstützt - Anwendung kaufmännischer Software - Modul 2 kaufmännischer Bereich   6C51A9EA-8369-9EF6-469B-8F192B60DCBC\n",
      " ---> Jahresabschluss   http://data.europa.eu/esco/skill/4a460161-eaea-4fe2-bd0e-164ccc635be1\n",
      "\n",
      "Finanzbuchführung Jahresabschluss / Anlagenbuchhaltung - EDV-unterstützt - Modul 11 kaufmännischer Bereich   6C526AE1-187A-A1EE-D557-B57FB448EE03\n",
      " ---> Jahresabschluss   http://data.europa.eu/esco/skill/4a460161-eaea-4fe2-bd0e-164ccc635be1\n",
      "\n",
      "Finanzbuchführung Jahresabschluss / Anlagenbuchhaltung - EDV-unterstützt - Modul 11 kaufmännischer Bereich   6C526AE1-187A-A1EE-D557-B57FB448EE03\n",
      " ---> Daten verarbeiten   http://data.europa.eu/esco/skill/f2d57f41-43b4-4f5b-8100-3df5c21eda50\n",
      "\n",
      "Fräsen konventionell - Modul 13   6C4A31B0-D8EC-C786-8E8D-609AEA7E08AD\n",
      " ---> planen   http://data.europa.eu/esco/skill/e49f4158-9d4c-425d-bf32-dfe89b19840a\n",
      "\n",
      "Geprüfter Industriemeister/ Geprüfte Industriemeisterin Fachrichtung Metall   69FAEA3F-32B2-261E-9F1B-5C721C6862EF\n",
      " ---> Kommunikation   http://data.europa.eu/esco/skill/15d76317-c71a-4fa2-aadc-2ecc34e627b7\n",
      "\n",
      "Gesunde Ernährung für die Familie (Seminar zur Grundversorgung nach dem BbgWBG)   64AA4F58-BD57-75E1-CD8C-96D4301739E9\n",
      " ---> Ernährung   http://data.europa.eu/esco/skill/13d96098-2ff0-46b8-b326-b7c0e18cc1f1\n",
      "\n",
      "Grundlagen der Diätküche (Seminar zur Grundversorgung nach dem BbgWBG)   64AA8FC6-4430-00A5-3218-B3B67E9E0C47\n",
      " ---> Ernährung   http://data.europa.eu/esco/skill/13d96098-2ff0-46b8-b326-b7c0e18cc1f1\n",
      "\n",
      "Grundlagen der Finanzbuchführung - Modul 1 kaufmännischer Bereich   6C519C65-C16E-E1C6-915D-2BD68B48F5AA\n",
      " ---> Buchführung   http://data.europa.eu/esco/skill/ecc18804-a466-40d9-98b4-fba5cd67dd4b\n",
      "\n",
      "Grundlagen der Finanzbuchführung - Modul 1 kaufmännischer Bereich   6C519C65-C16E-E1C6-915D-2BD68B48F5AA\n",
      " ---> Abschreibung   http://data.europa.eu/esco/skill/64be6a06-52e8-4f5c-b64d-caa516cfa291\n",
      "\n",
      "Grundlagen IT, Betriebssystem Microsoft Windows, Textverarbeitung Microsoft Word - Modul 3 kaufmännischer Bereich   6C51B62C-6FDA-AA53-4652-986CDC790E98\n",
      " ---> Betriebssysteme   http://data.europa.eu/esco/skill/f9a6f35b-01a7-40c9-8b61-b6ee46f97272\n",
      "\n",
      "Grundlagen IT, Betriebssystem Microsoft Windows, Textverarbeitung Microsoft Word - Modul 3 kaufmännischer Bereich   6C51B62C-6FDA-AA53-4652-986CDC790E98\n",
      " ---> Informatik   http://data.europa.eu/esco/skill/7b5cce4d-c7fe-4119-b48f-70aa05391787\n",
      "\n",
      "Grundlagen IT, Betriebssystem Microsoft Windows, Textverarbeitung Microsoft Word - Modul 3 kaufmännischer Bereich   6C51B62C-6FDA-AA53-4652-986CDC790E98\n",
      " ---> Datenschutz   http://data.europa.eu/esco/skill/a4346013-a967-4a58-a533-6b32ad1364c5\n",
      "\n",
      "Grundlagen IT; Betriebssysteme Microsoft; Internet und E-Mail-Dienste - Modul 11   6C4A123C-0041-1CAA-3420-19CCE8E2F127\n",
      " ---> Betriebssysteme   http://data.europa.eu/esco/skill/f9a6f35b-01a7-40c9-8b61-b6ee46f97272\n",
      "\n",
      "Hydraulik - Modul 5   6C49BF08-4D0E-E424-1259-76AD88487C9F\n",
      " ---> Hydraulik   http://data.europa.eu/esco/skill/68e66ed6-a171-4350-8ec1-2cfc4cae50e4\n",
      "\n",
      "Hydraulik - Modul 5   6C49BF08-4D0E-E424-1259-76AD88487C9F\n",
      " ---> Schaltpläne   http://data.europa.eu/esco/skill/02c71cde-f513-43da-8952-0974763c7568\n",
      "\n",
      "Internetseitenerstellung/HTML - Grundkurs (Seminar zur Grundversorgung nach dem BbgWBG)   64A884F1-A9C0-0E71-FF7D-09AE2A5319C7\n",
      " ---> CSS   http://data.europa.eu/esco/skill/e5d1f825-60ed-4bdd-872a-e748c387f777\n",
      "\n",
      "Internetseitenerstellung/HTML - Grundkurs (Seminar zur Grundversorgung nach dem BbgWBG)   64A884F1-A9C0-0E71-FF7D-09AE2A5319C7\n",
      " ---> JavaScript   http://data.europa.eu/esco/skill/3cd569a2-4f88-4c1e-9995-8dce8c5e51a7\n",
      "\n",
      "Kosten- und Leistungsrechnung/ Controlling - EDV-unterstützt (LEXWARE, KHK) - Modul 10 kaufmännischer Bereich   6C525EF7-EEC3-3AB7-05EE-35697F71320B\n",
      " ---> Kontrollsysteme   http://data.europa.eu/esco/skill/4ff549c3-daa5-4def-9916-301c7bdf13b8\n",
      "\n",
      "Lager/ Logistik Gabelstaplerschein, Grundlagen der Beschaffungs- und Lagerlogistik - Modul 13 kaufmännischer Bereich   6C5280D2-9D78-8A82-CEE8-DB610997393D\n",
      " ---> Logistik   http://data.europa.eu/esco/skill/e843973c-23dd-416a-8a9c-9e89512542fb\n",
      "\n",
      "Maschinenlehrgänge für Holzbearbeitungsmaschinen - Modul 19   6C4A95E4-24BB-BA0B-0139-4C27FC3FF9B8\n",
      " ---> planen   http://data.europa.eu/esco/skill/e49f4158-9d4c-425d-bf32-dfe89b19840a\n",
      "\n",
      "Mechatronische Systeme - Modul 9   6C49FA53-686B-BCFD-13E1-957C8BE7F46D\n",
      " ---> Inbetriebnahme   http://data.europa.eu/esco/skill/4ca91852-c534-4b98-ab1c-59a126534c88\n",
      "\n",
      "Messtechnik und Qualitätssicherung - Modul 2   6C4989B7-04CB-BF94-9209-B010B1BA6AC3\n",
      " ---> Messtechnik   http://data.europa.eu/esco/skill/a181e89d-44ae-40e7-8d37-177071237c74\n",
      "\n",
      "Metallbe- und -verarbeitung - Modul 1   6C4967E1-6599-9FAF-9786-8B5876B6496F\n",
      " ---> Kommunikation   http://data.europa.eu/esco/skill/15d76317-c71a-4fa2-aadc-2ecc34e627b7\n",
      "\n",
      "Metallbe- und -verarbeitung - Modul 1   6C4967E1-6599-9FAF-9786-8B5876B6496F\n",
      " ---> Mathematik   http://data.europa.eu/esco/skill/4339176e-3acd-4f7f-a5d9-445bee3d23f2\n",
      "\n",
      "Microsoft Access - Grundkurs (Seminar zur Grundversorgung nach dem BbgWBG)   64A857CA-E8FB-B677-0C03-4C3AF27C8AB2\n",
      " ---> Microsoft Access   http://data.europa.eu/esco/skill/3d03c40c-1b83-4793-8902-2523f40af59e\n",
      "\n",
      "Microsoft Excel für den professionellen Einsatz, Schwerpunkt VBA - Modul 15 kaufmännischer Bereich   6C52A173-8E61-1410-BDFF-2C0C6FCDC706\n",
      " ---> Visual Basic   http://data.europa.eu/esco/skill/13bdd41a-2a18-441f-96db-41252c519413\n",
      "\n",
      "Personalwesen, Arbeits- und Sozialrecht - Modul 12 kaufmännischer Bereich   6C527470-A554-4009-38D9-EB505FE7826E\n",
      " ---> Personalwesen   http://data.europa.eu/esco/skill/e437eba1-3e22-41f2-8703-741e94785cba\n",
      "\n",
      "Personalwesen, Arbeits- und Sozialrecht - Modul 12 kaufmännischer Bereich   6C527470-A554-4009-38D9-EB505FE7826E\n",
      " ---> soziale Unternehmen   http://data.europa.eu/esco/skill/2f4cdc7e-d98d-4e6c-9811-3dc28255c7ff\n",
      "\n",
      "Pneumatik - Modul 6   6C49CFF0-BC95-57A8-57AD-0C25D8B74AC0\n",
      " ---> Pneumatik   http://data.europa.eu/esco/skill/bf419e00-8548-491a-a06f-d72ab439df2f\n",
      "\n",
      "Schreiben und informieren am PC (Alphabetisierungs- und Grundbildungskurse im Land Brandenburg)   6543B292-77E8-8D29-731F-726ABD01908D\n",
      " ---> Daten verwalten   http://data.europa.eu/esco/skill/9ff9db9d-d14b-426e-83f3-e7449af6c79f\n",
      "\n",
      "Speicher Programmierbare Steuerung - Aufbaumodul 4   6C49A84B-02EB-B3B4-EC00-631A1AC151A2\n",
      " ---> Automatisierungstechnik   http://data.europa.eu/esco/skill/f4a6e9f7-5cff-46c0-894c-59c20bb78694\n",
      "\n",
      "Speicher Programmierbare Steuerung - Grundmodul 3   6C499148-FBDB-BD6A-CBD4-37A99649A97A\n",
      " ---> speicherprogrammierbare Steuerung   http://data.europa.eu/esco/skill/6468e5fb-f3be-4025-87be-4b6556755c61\n",
      "\n",
      "time:  76.46775388717651\n"
     ]
    }
   ],
   "source": [
    "tic = time.time()\n",
    "get_relations_2(300,350)\n",
    "toc = time.time()\n",
    "print(\"time: \", toc-tic)"
   ]
  },
  {
   "cell_type": "code",
   "execution_count": null,
   "id": "67bd73db",
   "metadata": {},
   "outputs": [],
   "source": []
  }
 ],
 "metadata": {
  "kernelspec": {
   "display_name": "Python 3 (ipykernel)",
   "language": "python",
   "name": "python3"
  },
  "language_info": {
   "codemirror_mode": {
    "name": "ipython",
    "version": 3
   },
   "file_extension": ".py",
   "mimetype": "text/x-python",
   "name": "python",
   "nbconvert_exporter": "python",
   "pygments_lexer": "ipython3",
   "version": "3.8.13"
  },
  "toc": {
   "base_numbering": 1,
   "nav_menu": {},
   "number_sections": true,
   "sideBar": true,
   "skip_h1_title": false,
   "title_cell": "Table of Contents",
   "title_sidebar": "Contents",
   "toc_cell": false,
   "toc_position": {},
   "toc_section_display": true,
   "toc_window_display": false
  }
 },
 "nbformat": 4,
 "nbformat_minor": 5
}
