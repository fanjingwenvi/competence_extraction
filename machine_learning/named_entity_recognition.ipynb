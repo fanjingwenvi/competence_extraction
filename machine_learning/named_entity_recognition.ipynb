{
 "cells": [
  {
   "cell_type": "code",
   "execution_count": 1,
   "id": "0e1c94ad",
   "metadata": {
    "_cell_guid": "b1076dfc-b9ad-4769-8c92-a6c4dae69d19",
    "_uuid": "8f2839f25d086af736a60e9eeb907d3b93b6e0e5",
    "execution": {
     "iopub.execute_input": "2022-06-23T17:51:27.279922Z",
     "iopub.status.busy": "2022-06-23T17:51:27.279274Z",
     "iopub.status.idle": "2022-06-23T17:51:27.298695Z",
     "shell.execute_reply": "2022-06-23T17:51:27.297926Z"
    },
    "papermill": {
     "duration": 0.028477,
     "end_time": "2022-06-23T17:51:27.301190",
     "exception": false,
     "start_time": "2022-06-23T17:51:27.272713",
     "status": "completed"
    },
    "tags": []
   },
   "outputs": [
    {
     "name": "stdout",
     "output_type": "stream",
     "text": [
      "/kaggle/input/course/toy_language_annotations.json\n"
     ]
    }
   ],
   "source": [
    "# This Python 3 environment comes with many helpful analytics libraries installed\n",
    "# It is defined by the kaggle/python Docker image: https://github.com/kaggle/docker-python\n",
    "# For example, here's several helpful packages to load\n",
    "\n",
    "import numpy as np # linear algebra\n",
    "import pandas as pd # data processing, CSV file I/O (e.g. pd.read_csv)\n",
    "\n",
    "# Input data files are available in the read-only \"../input/\" directory\n",
    "# For example, running this (by clicking run or pressing Shift+Enter) will list all files under the input directory\n",
    "\n",
    "import os\n",
    "for dirname, _, filenames in os.walk('/kaggle/input'):\n",
    "    for filename in filenames:\n",
    "        print(os.path.join(dirname, filename))\n",
    "\n",
    "# You can write up to 20GB to the current directory (/kaggle/working/) that gets preserved as output when you create a version using \"Save & Run All\" \n",
    "# You can also write temporary files to /kaggle/temp/, but they won't be saved outside of the current session"
   ]
  },
  {
   "cell_type": "code",
   "execution_count": 2,
   "id": "36b7a629",
   "metadata": {
    "execution": {
     "iopub.execute_input": "2022-06-23T17:51:27.311247Z",
     "iopub.status.busy": "2022-06-23T17:51:27.310763Z",
     "iopub.status.idle": "2022-06-23T17:51:38.849289Z",
     "shell.execute_reply": "2022-06-23T17:51:38.848466Z"
    },
    "papermill": {
     "duration": 11.545094,
     "end_time": "2022-06-23T17:51:38.851360",
     "exception": false,
     "start_time": "2022-06-23T17:51:27.306266",
     "status": "completed"
    },
    "tags": []
   },
   "outputs": [],
   "source": [
    "import spacy\n",
    "from spacy.tokens import DocBin\n",
    "from tqdm import tqdm\n",
    "\n",
    "nlp = spacy.blank(\"en\") # load a new spacy model\n",
    "db = DocBin() # create a DocBin object"
   ]
  },
  {
   "cell_type": "code",
   "execution_count": 3,
   "id": "648ac424",
   "metadata": {
    "execution": {
     "iopub.execute_input": "2022-06-23T17:51:38.860767Z",
     "iopub.status.busy": "2022-06-23T17:51:38.860288Z",
     "iopub.status.idle": "2022-06-23T17:51:38.881612Z",
     "shell.execute_reply": "2022-06-23T17:51:38.880932Z"
    },
    "papermill": {
     "duration": 0.028031,
     "end_time": "2022-06-23T17:51:38.883463",
     "exception": false,
     "start_time": "2022-06-23T17:51:38.855432",
     "status": "completed"
    },
    "tags": []
   },
   "outputs": [],
   "source": [
    "import json\n",
    " \n",
    "with open('../input/course/toy_language_annotations.json', 'r') as f:\n",
    "    data = json.load(f)"
   ]
  },
  {
   "cell_type": "code",
   "execution_count": 4,
   "id": "9f9b5b7d",
   "metadata": {
    "execution": {
     "iopub.execute_input": "2022-06-23T17:51:38.892335Z",
     "iopub.status.busy": "2022-06-23T17:51:38.891747Z",
     "iopub.status.idle": "2022-06-23T17:51:38.896510Z",
     "shell.execute_reply": "2022-06-23T17:51:38.895871Z"
    },
    "papermill": {
     "duration": 0.010837,
     "end_time": "2022-06-23T17:51:38.898097",
     "exception": false,
     "start_time": "2022-06-23T17:51:38.887260",
     "status": "completed"
    },
    "tags": []
   },
   "outputs": [],
   "source": [
    "import pprint\n",
    "pp = pprint.PrettyPrinter(indent=4)"
   ]
  },
  {
   "cell_type": "code",
   "execution_count": 5,
   "id": "cef8657e",
   "metadata": {
    "execution": {
     "iopub.execute_input": "2022-06-23T17:51:38.907311Z",
     "iopub.status.busy": "2022-06-23T17:51:38.906823Z",
     "iopub.status.idle": "2022-06-23T17:51:38.914631Z",
     "shell.execute_reply": "2022-06-23T17:51:38.913940Z"
    },
    "papermill": {
     "duration": 0.015332,
     "end_time": "2022-06-23T17:51:38.917166",
     "exception": false,
     "start_time": "2022-06-23T17:51:38.901834",
     "status": "completed"
    },
    "tags": []
   },
   "outputs": [
    {
     "name": "stdout",
     "output_type": "stream",
     "text": [
      "{   'entities': [   (430, 444, 'COMPETENCE'),\n",
      "                    (84, 106, 'COMPETENCE'),\n",
      "                    (0, 8, 'COMPETENCE'),\n",
      "                    (88, 107, 'COMPETENCE'),\n",
      "                    (401, 423, 'COMPETENCE'),\n",
      "                    (67, 106, 'COMPETENCE')],\n",
      "    'text': 'Spanisch A1 Curso de repaso y profundización. Für Teilnehmende '\n",
      "            'mit Grundkenntnissen der spanischen Sprache  und '\n",
      "            'Wiedereinsteiger*innen geeignet.\\n'\n",
      "            '\\n'\n",
      "            'Dieser Kurs richtet sich an Teilnehmende, die das Niveau A1 '\n",
      "            'auffrischen und vertiefen wollen, wobei auch Elemente des Niveaus '\n",
      "            'A2 einfließen werden. Dabei stehen die Wiederholung, '\n",
      "            'Reaktivierung und Festigung der bereits vorhandenen Kenntnisse, '\n",
      "            'die leichte mündliche Konversation sowie Hörverständnisübungen im '\n",
      "            'Mittelpunkt. Spiele und Lektüre sind ebenfalls Bestandteil des '\n",
      "            'Auffrischungskurses.\\n'\n",
      "            'Das Arbeitstempo richtet sich nach den Teilnehmenden, die nicht '\n",
      "            'unter Leistungsdruck stehen. Im Vordergrund soll die Freude am '\n",
      "            'gemeinsamen Lernen stehen.     '}\n"
     ]
    }
   ],
   "source": [
    "all_training_data = {'classes' : ['competence'], 'annotations' : []}\n",
    "for example in data['examples']:\n",
    "    temp_dict = {}\n",
    "    temp_dict['text'] = example['content']\n",
    "    temp_dict['entities'] = []\n",
    "    for annotation in example['annotations']:\n",
    "        start = annotation['start']\n",
    "        end = annotation['end']\n",
    "        label = annotation['tag'].upper()\n",
    "        temp_dict['entities'].append((start, end, label))\n",
    "        all_training_data['annotations'].append(temp_dict)\n",
    "\n",
    "pp.pprint(all_training_data['annotations'][176])"
   ]
  },
  {
   "cell_type": "code",
   "execution_count": 6,
   "id": "da7e2b82",
   "metadata": {
    "execution": {
     "iopub.execute_input": "2022-06-23T17:51:38.926117Z",
     "iopub.status.busy": "2022-06-23T17:51:38.925590Z",
     "iopub.status.idle": "2022-06-23T17:51:38.929629Z",
     "shell.execute_reply": "2022-06-23T17:51:38.928822Z"
    },
    "papermill": {
     "duration": 0.010161,
     "end_time": "2022-06-23T17:51:38.931263",
     "exception": false,
     "start_time": "2022-06-23T17:51:38.921102",
     "status": "completed"
    },
    "tags": []
   },
   "outputs": [],
   "source": [
    "## select training data \n",
    "split = 30\n",
    "training_data = {'classes' : ['competence'], 'annotations' : all_training_data['annotations'][: split]}"
   ]
  },
  {
   "cell_type": "code",
   "execution_count": 7,
   "id": "541e8db5",
   "metadata": {
    "execution": {
     "iopub.execute_input": "2022-06-23T17:51:38.939762Z",
     "iopub.status.busy": "2022-06-23T17:51:38.939525Z",
     "iopub.status.idle": "2022-06-23T17:51:38.943977Z",
     "shell.execute_reply": "2022-06-23T17:51:38.943142Z"
    },
    "papermill": {
     "duration": 0.012367,
     "end_time": "2022-06-23T17:51:38.947436",
     "exception": false,
     "start_time": "2022-06-23T17:51:38.935069",
     "status": "completed"
    },
    "tags": []
   },
   "outputs": [
    {
     "name": "stdout",
     "output_type": "stream",
     "text": [
      "{   'entities': [   (281, 289, 'COMPETENCE'),\n",
      "                    (88, 96, 'COMPETENCE'),\n",
      "                    (0, 8, 'COMPETENCE'),\n",
      "                    (264, 273, 'COMPETENCE'),\n",
      "                    (88, 106, 'COMPETENCE')],\n",
      "    'text': 'Spanisch am Wochenende - Anfängerkurs . In diesem Intensivkurs '\n",
      "            'erlernen Sie Ihre ersten Spanischkenntnisse in einer lockeren '\n",
      "            'Atmosphäre mit Spaß, ohne Lerndruck. Sie bekommen erste Einblicke '\n",
      "            'in die Sprache und lernen schnell einfache, alltägliche '\n",
      "            'Redewendungen zu verstehen und zu sprechen. Dieser Kurs ist für '\n",
      "            'Teilnehmende ohne Vorkenntnisse und Wiedereinsteigende '\n",
      "            'geeignet.     '}\n"
     ]
    }
   ],
   "source": [
    "pp.pprint(training_data['annotations'][10])"
   ]
  },
  {
   "cell_type": "code",
   "execution_count": 8,
   "id": "02a18e47",
   "metadata": {
    "execution": {
     "iopub.execute_input": "2022-06-23T17:51:38.956143Z",
     "iopub.status.busy": "2022-06-23T17:51:38.955893Z",
     "iopub.status.idle": "2022-06-23T17:51:39.146822Z",
     "shell.execute_reply": "2022-06-23T17:51:39.146145Z"
    },
    "papermill": {
     "duration": 0.197238,
     "end_time": "2022-06-23T17:51:39.148558",
     "exception": false,
     "start_time": "2022-06-23T17:51:38.951320",
     "status": "completed"
    },
    "tags": []
   },
   "outputs": [],
   "source": [
    "import spacy\n",
    "from spacy.tokens import DocBin\n",
    "from tqdm import tqdm\n",
    "\n",
    "nlp = spacy.blank(\"en\") # load a new spacy model\n",
    "doc_bin = DocBin() # create a DocBin object"
   ]
  },
  {
   "cell_type": "code",
   "execution_count": 9,
   "id": "345ef2a9",
   "metadata": {
    "execution": {
     "iopub.execute_input": "2022-06-23T17:51:39.157777Z",
     "iopub.status.busy": "2022-06-23T17:51:39.157131Z",
     "iopub.status.idle": "2022-06-23T17:51:39.223340Z",
     "shell.execute_reply": "2022-06-23T17:51:39.222020Z"
    },
    "papermill": {
     "duration": 0.073597,
     "end_time": "2022-06-23T17:51:39.226095",
     "exception": false,
     "start_time": "2022-06-23T17:51:39.152498",
     "status": "completed"
    },
    "tags": []
   },
   "outputs": [
    {
     "name": "stderr",
     "output_type": "stream",
     "text": [
      "100%|██████████| 30/30 [00:00<00:00, 579.57it/s]"
     ]
    },
    {
     "name": "stdout",
     "output_type": "stream",
     "text": [
      "Skipping entity\n",
      "Skipping entity\n",
      "Skipping entity\n",
      "Skipping entity\n",
      "Skipping entity\n"
     ]
    },
    {
     "name": "stderr",
     "output_type": "stream",
     "text": [
      "\n"
     ]
    }
   ],
   "source": [
    "from spacy.util import filter_spans\n",
    "\n",
    "for training_example  in tqdm(training_data['annotations']): \n",
    "    text = training_example['text']\n",
    "    labels = training_example['entities']\n",
    "    doc = nlp.make_doc(text) \n",
    "    ents = []\n",
    "    for start, end, label in labels:\n",
    "        span = doc.char_span(start, end, label=label, alignment_mode=\"contract\")\n",
    "        if span is None:\n",
    "            print(\"Skipping entity\")\n",
    "        else:\n",
    "            ents.append(span)\n",
    "    filtered_ents = filter_spans(ents)\n",
    "    doc.ents = filtered_ents \n",
    "    doc_bin.add(doc)\n",
    "\n",
    "doc_bin.to_disk(\"./training_data.spacy\") # save the docbin object"
   ]
  },
  {
   "cell_type": "code",
   "execution_count": 10,
   "id": "feb0af72",
   "metadata": {
    "execution": {
     "iopub.execute_input": "2022-06-23T17:51:39.236619Z",
     "iopub.status.busy": "2022-06-23T17:51:39.236050Z",
     "iopub.status.idle": "2022-06-23T17:51:47.364206Z",
     "shell.execute_reply": "2022-06-23T17:51:47.363199Z"
    },
    "papermill": {
     "duration": 8.135467,
     "end_time": "2022-06-23T17:51:47.366611",
     "exception": false,
     "start_time": "2022-06-23T17:51:39.231144",
     "status": "completed"
    },
    "tags": []
   },
   "outputs": [
    {
     "name": "stdout",
     "output_type": "stream",
     "text": [
      "\u001b[38;5;3m⚠ To generate a more effective transformer-based config (GPU-only),\r\n",
      "install the spacy-transformers package and re-run this command. The config\r\n",
      "generated now does not use transformers.\u001b[0m\r\n",
      "\u001b[38;5;4mℹ Generated config template specific for your use case\u001b[0m\r\n",
      "- Language: de\r\n",
      "- Pipeline: ner\r\n",
      "- Optimize for: efficiency\r\n",
      "- Hardware: CPU\r\n",
      "- Transformer: None\r\n",
      "\u001b[38;5;2m✔ Auto-filled config with all values\u001b[0m\r\n",
      "\u001b[38;5;2m✔ Saved config\u001b[0m\r\n",
      "config.cfg\r\n",
      "You can now add your data and train your pipeline:\r\n",
      "python -m spacy train config.cfg --paths.train ./train.spacy --paths.dev ./dev.spacy\r\n"
     ]
    }
   ],
   "source": [
    "!python -m spacy init config config.cfg --lang de --pipeline ner --optimize efficiency"
   ]
  },
  {
   "cell_type": "code",
   "execution_count": 11,
   "id": "c51a3c59",
   "metadata": {
    "execution": {
     "iopub.execute_input": "2022-06-23T17:51:47.377935Z",
     "iopub.status.busy": "2022-06-23T17:51:47.377597Z",
     "iopub.status.idle": "2022-06-23T17:54:11.416040Z",
     "shell.execute_reply": "2022-06-23T17:54:11.415037Z"
    },
    "papermill": {
     "duration": 144.046456,
     "end_time": "2022-06-23T17:54:11.418264",
     "exception": false,
     "start_time": "2022-06-23T17:51:47.371808",
     "status": "completed"
    },
    "tags": []
   },
   "outputs": [
    {
     "name": "stdout",
     "output_type": "stream",
     "text": [
      "\u001b[38;5;4mℹ Saving to output directory: .\u001b[0m\r\n",
      "\u001b[38;5;4mℹ Using CPU\u001b[0m\r\n",
      "\u001b[38;5;4mℹ To switch to GPU 0, use the option: --gpu-id 0\u001b[0m\r\n",
      "\u001b[1m\r\n",
      "=========================== Initializing pipeline ===========================\u001b[0m\r\n",
      "[2022-06-23 17:51:54,787] [INFO] Set up nlp object from config\r\n",
      "[2022-06-23 17:51:54,799] [INFO] Pipeline: ['tok2vec', 'ner']\r\n",
      "[2022-06-23 17:51:54,805] [INFO] Created vocabulary\r\n",
      "[2022-06-23 17:51:54,806] [INFO] Finished initializing nlp object\r\n",
      "[2022-06-23 17:51:55,068] [INFO] Initialized pipeline components: ['tok2vec', 'ner']\r\n",
      "\u001b[38;5;2m✔ Initialized pipeline\u001b[0m\r\n",
      "\u001b[1m\r\n",
      "============================= Training pipeline =============================\u001b[0m\r\n",
      "\u001b[38;5;4mℹ Pipeline: ['tok2vec', 'ner']\u001b[0m\r\n",
      "\u001b[38;5;4mℹ Initial learn rate: 0.001\u001b[0m\r\n",
      "E    #       LOSS TOK2VEC  LOSS NER  ENTS_F  ENTS_P  ENTS_R  SCORE \r\n",
      "---  ------  ------------  --------  ------  ------  ------  ------\r\n",
      "  0       0          0.00     47.00    6.82    3.69   44.12    0.07\r\n",
      "  7     200        153.13   1031.07  100.00  100.00  100.00    1.00\r\n",
      " 16     400          0.00      0.00  100.00  100.00  100.00    1.00\r\n",
      " 26     600          0.00      0.00  100.00  100.00  100.00    1.00\r\n",
      " 38     800          0.00      0.00  100.00  100.00  100.00    1.00\r\n",
      " 54    1000          0.00      0.00  100.00  100.00  100.00    1.00\r\n",
      " 75    1200          0.00      0.00  100.00  100.00  100.00    1.00\r\n",
      "101    1400          1.74      1.08  100.00  100.00  100.00    1.00\r\n",
      "134    1600       1065.75     59.32  100.00  100.00  100.00    1.00\r\n",
      "174    1800          0.00      0.00  100.00  100.00  100.00    1.00\r\n",
      "\u001b[38;5;2m✔ Saved pipeline to output directory\u001b[0m\r\n",
      "model-last\r\n"
     ]
    }
   ],
   "source": [
    "!python -m spacy train config.cfg --output ./ --paths.train ./training_data.spacy --paths.dev ./training_data.spacy"
   ]
  },
  {
   "cell_type": "code",
   "execution_count": 12,
   "id": "913df79c",
   "metadata": {
    "execution": {
     "iopub.execute_input": "2022-06-23T17:54:11.430642Z",
     "iopub.status.busy": "2022-06-23T17:54:11.429933Z",
     "iopub.status.idle": "2022-06-23T17:54:11.701868Z",
     "shell.execute_reply": "2022-06-23T17:54:11.701114Z"
    },
    "papermill": {
     "duration": 0.280013,
     "end_time": "2022-06-23T17:54:11.703694",
     "exception": false,
     "start_time": "2022-06-23T17:54:11.423681",
     "status": "completed"
    },
    "tags": []
   },
   "outputs": [],
   "source": [
    "nlp_ner = spacy.load(\"./model-best\")"
   ]
  },
  {
   "cell_type": "code",
   "execution_count": 13,
   "id": "377483ce",
   "metadata": {
    "execution": {
     "iopub.execute_input": "2022-06-23T17:54:11.715237Z",
     "iopub.status.busy": "2022-06-23T17:54:11.714973Z",
     "iopub.status.idle": "2022-06-23T17:54:11.735427Z",
     "shell.execute_reply": "2022-06-23T17:54:11.734580Z"
    },
    "papermill": {
     "duration": 0.028518,
     "end_time": "2022-06-23T17:54:11.737583",
     "exception": false,
     "start_time": "2022-06-23T17:54:11.709065",
     "status": "completed"
    },
    "tags": []
   },
   "outputs": [
    {
     "data": {
      "text/html": [
       "<span class=\"tex2jax_ignore\"><div class=\"entities\" style=\"line-height: 2.5; direction: ltr\">\n",
       "<mark class=\"entity\" style=\"background: #C4DFE6; padding: 0.45em 0.6em; margin: 0 0.25em; line-height: 1; border-radius: 0.35em;\">\n",
       "    Spanisch\n",
       "    <span style=\"font-size: 0.8em; font-weight: bold; line-height: 1; border-radius: 0.35em; vertical-align: middle; margin-left: 0.5rem\">COMPETENCE</span>\n",
       "</mark>\n",
       " A1 Curso de repaso y profundización. Für Teilnehmende mit Grundkenntnissen der spanischen Sprache  und Wiedereinsteiger*innen geeignet.</br></br>Dieser Kurs richtet sich an Teilnehmende, die das Niveau A1 auffrischen und vertiefen wollen, wobei auch Elemente des Niveaus A2 einfließen werden. Dabei stehen die Wiederholung, Reaktivierung und Festigung der bereits vorhandenen Kenntnisse, die leichte mündliche Konversation sowie Hörverständnisübungen im Mittelpunkt. Spiele und Lektüre sind ebenfalls Bestandteil des Auffrischungskurses.</br>Das Arbeitstempo richtet sich nach den Teilnehmenden, die nicht unter Leistungsdruck stehen. Im Vordergrund soll die Freude am gemeinsamen Lernen stehen.     </div></span>"
      ],
      "text/plain": [
       "<IPython.core.display.HTML object>"
      ]
     },
     "metadata": {},
     "output_type": "display_data"
    }
   ],
   "source": [
    "test_text = all_training_data['annotations'][176]['text']\n",
    "\n",
    "doc = nlp_ner(test_text)\n",
    "\n",
    "colors = {'COMPETENCE': \"#C4DFE6\"}\n",
    "options = {\"colors\": colors} \n",
    "\n",
    "spacy.displacy.render(doc, style=\"ent\", options= options, jupyter=True)"
   ]
  },
  {
   "cell_type": "code",
   "execution_count": null,
   "id": "7d03e3e9",
   "metadata": {
    "papermill": {
     "duration": 0.005141,
     "end_time": "2022-06-23T17:54:11.748157",
     "exception": false,
     "start_time": "2022-06-23T17:54:11.743016",
     "status": "completed"
    },
    "tags": []
   },
   "outputs": [],
   "source": []
  },
  {
   "cell_type": "code",
   "execution_count": null,
   "id": "4b13b6e3",
   "metadata": {
    "papermill": {
     "duration": 0.005163,
     "end_time": "2022-06-23T17:54:11.758520",
     "exception": false,
     "start_time": "2022-06-23T17:54:11.753357",
     "status": "completed"
    },
    "tags": []
   },
   "outputs": [],
   "source": []
  }
 ],
 "metadata": {
  "kernelspec": {
   "display_name": "Python 3 (ipykernel)",
   "language": "python",
   "name": "python3"
  },
  "language_info": {
   "codemirror_mode": {
    "name": "ipython",
    "version": 3
   },
   "file_extension": ".py",
   "mimetype": "text/x-python",
   "name": "python",
   "nbconvert_exporter": "python",
   "pygments_lexer": "ipython3",
   "version": "3.8.13"
  },
  "papermill": {
   "default_parameters": {},
   "duration": 175.774211,
   "end_time": "2022-06-23T17:54:14.648240",
   "environment_variables": {},
   "exception": null,
   "input_path": "__notebook__.ipynb",
   "output_path": "__notebook__.ipynb",
   "parameters": {},
   "start_time": "2022-06-23T17:51:18.874029",
   "version": "2.3.4"
  },
  "toc": {
   "base_numbering": 1,
   "nav_menu": {},
   "number_sections": true,
   "sideBar": true,
   "skip_h1_title": false,
   "title_cell": "Table of Contents",
   "title_sidebar": "Contents",
   "toc_cell": false,
   "toc_position": {},
   "toc_section_display": true,
   "toc_window_display": false
  }
 },
 "nbformat": 4,
 "nbformat_minor": 5
}
